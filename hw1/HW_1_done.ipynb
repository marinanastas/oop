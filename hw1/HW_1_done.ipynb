{
  "nbformat": 4,
  "nbformat_minor": 0,
  "metadata": {
    "colab": {
      "name": "CarsClasses тестим рабочий код, всё портим",
      "provenance": [],
      "collapsed_sections": []
    },
    "kernelspec": {
      "name": "python3",
      "display_name": "Python 3"
    }
  },
  "cells": [
    {
      "cell_type": "markdown",
      "metadata": {
        "id": "wn8ISNFzW_te"
      },
      "source": [
        "## HW1"
      ]
    },
    {
      "cell_type": "code",
      "metadata": {
        "id": "Y_TputOeaJTV",
        "outputId": "50ef8819-4f75-475a-bc6b-229149d66002",
        "colab": {
          "base_uri": "https://localhost:8080/"
        }
      },
      "source": [
        "!wget https://gist.githubusercontent.com/NooblyRand0m/404c8a252f89862654c3fa6bba3d8bc3/raw/26c97aa3876ef33f3509e3b1209402c5c138f06c/coursera_week3_cars.csv"
      ],
      "execution_count": 268,
      "outputs": [
        {
          "output_type": "stream",
          "name": "stdout",
          "text": [
            "--2022-06-15 21:09:39--  https://gist.githubusercontent.com/NooblyRand0m/404c8a252f89862654c3fa6bba3d8bc3/raw/26c97aa3876ef33f3509e3b1209402c5c138f06c/coursera_week3_cars.csv\n",
            "Resolving gist.githubusercontent.com (gist.githubusercontent.com)... 185.199.108.133, 185.199.109.133, 185.199.110.133, ...\n",
            "Connecting to gist.githubusercontent.com (gist.githubusercontent.com)|185.199.108.133|:443... connected.\n",
            "HTTP request sent, awaiting response... 200 OK\n",
            "Length: 287 [text/plain]\n",
            "Saving to: ‘coursera_week3_cars.csv.2’\n",
            "\n",
            "\r          coursera_   0%[                    ]       0  --.-KB/s               \rcoursera_week3_cars 100%[===================>]     287  --.-KB/s    in 0s      \n",
            "\n",
            "2022-06-15 21:09:39 (10.6 MB/s) - ‘coursera_week3_cars.csv.2’ saved [287/287]\n",
            "\n"
          ]
        }
      ]
    },
    {
      "cell_type": "code",
      "metadata": {
        "id": "E5Z8CPjQaNT9",
        "outputId": "266f275f-32f6-4f67-ec4d-e0c994a9c225",
        "colab": {
          "base_uri": "https://localhost:8080/"
        }
      },
      "source": [
        "!head coursera_week3_cars.csv"
      ],
      "execution_count": 269,
      "outputs": [
        {
          "output_type": "stream",
          "name": "stdout",
          "text": [
            "car_type;brand;passenger_seats_count;photo_file_name;body_whl;carrying;extra\n",
            "car;Nissan xTtrail;4;f1.jpeg;;2.5;\n",
            "truck;Man;;f2.png;8x3x2.5;20;\n",
            "truck;Man;;f2.png;;20;\n",
            "car;Mazda 6;4;f3.jpeg;;2.5;\n",
            ";;;\n",
            "spec_machine;Hitachi;;f4;;1.2;Легкая техника для уборки снега\n",
            "\n"
          ]
        }
      ]
    },
    {
      "cell_type": "code",
      "source": [
        "import os\n",
        "import re\n",
        "import csv\n",
        "from typing import List"
      ],
      "metadata": {
        "id": "3euQvsbxmi3m"
      },
      "execution_count": 270,
      "outputs": []
    },
    {
      "cell_type": "code",
      "metadata": {
        "id": "vvLngCuAXOyN"
      },
      "source": [
        "csv_filename = \"coursera_week3_cars.csv\""
      ],
      "execution_count": 271,
      "outputs": []
    },
    {
      "cell_type": "code",
      "metadata": {
        "id": "N7OT5vXyYPaM"
      },
      "source": [
        "class CarBase:\n",
        "    def __init__(self, brand: str, photo_file_name: str, carrying: float) -> None:\n",
        "        self.brand = brand\n",
        "        self.photo_file_name = photo_file_name\n",
        "        self.carrying = carrying\n",
        "\n",
        "    def get_photo_file_ext(self) -> str:\n",
        "        return os.path.splitext(self.photo_file_name)[1]\n",
        "\n",
        "class Car(CarBase):\n",
        "    def __init__(self, brand: str, passenger_seats_count: int, photo_file_name: str, carrying: float) -> None:\n",
        "        super().__init__(brand, photo_file_name, carrying)\n",
        "        self.car_type = \"car\"\n",
        "        self.passenger_seats_count = passenger_seats_count\n",
        "        assert 0 < int(passenger_seats_count) < 6 # по пдд, в легковушке не может ехать больше 5 человек\n",
        "\n",
        "class Truck(CarBase):\n",
        "    def __init__(self, brand: str, photo_file_name: str, carrying: float, body_whl: float) -> None:\n",
        "        super().__init__(brand, photo_file_name, carrying)\n",
        "        self.car_type = \"truck\"\n",
        "        try: # проверка (по условию задания): если не вещественное число, то всем габаритам присваивается 0\n",
        "            self.body_length = float(body_whl.split(\"x\")[0])\n",
        "            self.body_width = float(body_whl.split(\"x\")[1])\n",
        "            self.body_height = float(body_whl.split(\"x\")[2])\n",
        "        except:\n",
        "            self.body_length = 0\n",
        "            self.body_width = 0\n",
        "            self.body_height = 0\n",
        "\n",
        "    def get_body_volume(self) -> float:\n",
        "      return self.body_length * self.body_width * self.body_height\n",
        "\n",
        "class SpecMachine(CarBase):\n",
        "    def __init__(self, brand: str, photo_file_name: str, carrying: float, extra: str) -> None:\n",
        "        super().__init__(brand, photo_file_name, carrying)\n",
        "        self.car_type = \"spec_machine\"\n",
        "        self.extra = extra"
      ],
      "execution_count": 272,
      "outputs": []
    },
    {
      "cell_type": "code",
      "source": [
        "def get_car_list(csv_filename) -> List[CarBase]:\n",
        "    car_list = []\n",
        "    with open(csv_filename) as csv_fd:\n",
        "        reader = csv.reader(csv_fd, delimiter=\";\")\n",
        "        next(reader)\n",
        "        for row in reader:\n",
        "            try:\n",
        "                if row[0] == \"car\":\n",
        "                    try:\n",
        "                        car = Car(brand=row[1], passenger_seats_count=row[2], photo_file_name=row[3], carrying=row[5])\n",
        "                        car_list.append(car)\n",
        "                    except:\n",
        "                        pass\n",
        "                elif row[0] == \"truck\":\n",
        "                    if re.match(r\"[\\d.]+x[\\d.]+x[\\d.]+\", row[4]):\n",
        "                        try:\n",
        "                            car = Truck(brand=row[1], photo_file_name=row[3], body_whl=row[4], carrying=row[5])\n",
        "                            car_list.append(car)\n",
        "                        except:\n",
        "                            pass\n",
        "                    else:\n",
        "                        try:\n",
        "                            car = Truck(brand=row[1], photo_file_name=row[3], carrying=row[5])\n",
        "                            car_list.append(car)\n",
        "                        except:\n",
        "                            pass\n",
        "                elif row[0] == \"spec_machine\":\n",
        "                    try:\n",
        "                        car = SpecMachine(brand=row[1], photo_file_name=row[3], carrying=row[5], extra=row[6])\n",
        "                        car_list.append(car)\n",
        "                    except:\n",
        "                        pass\n",
        "            except:\n",
        "                pass\n",
        "    return car_list"
      ],
      "metadata": {
        "id": "ug0DvpMBnfKL"
      },
      "execution_count": 273,
      "outputs": []
    },
    {
      "cell_type": "markdown",
      "source": [
        "## Базовые проверки"
      ],
      "metadata": {
        "id": "-KDupmtTSeSF"
      }
    },
    {
      "cell_type": "code",
      "source": [
        "car = Car('Bugatti Veyron', '2', 'bugatti.png', '0.312')\n",
        "print(car.car_type, car.brand, car.photo_file_name, car.carrying, car.passenger_seats_count, sep='\\n')\n",
        "# car\n",
        "# Bugatti Veyron\n",
        "# bugatti.png\n",
        "# 0.312\n",
        "# 2"
      ],
      "metadata": {
        "id": "RXwrgnHrSXyP",
        "colab": {
          "base_uri": "https://localhost:8080/"
        },
        "outputId": "e396a42a-9623-4eb4-8846-efd97ab0539e"
      },
      "execution_count": 274,
      "outputs": [
        {
          "output_type": "stream",
          "name": "stdout",
          "text": [
            "car\n",
            "Bugatti Veyron\n",
            "bugatti.png\n",
            "0.312\n",
            "2\n"
          ]
        }
      ]
    },
    {
      "cell_type": "code",
      "source": [
        "truck = Truck('Nissan', 'nissan.jpeg', '1.5', '3.92x2.09x1.87')\n",
        "print(truck.car_type, truck.brand, truck.photo_file_name, truck.body_length, truck.body_width, truck.body_height, sep='\\n')\n",
        "# truck\n",
        "# Nissan\n",
        "# nissan.jpeg\n",
        "# 3.92\n",
        "# 2.09\n",
        "# 1.87"
      ],
      "metadata": {
        "id": "0RVqx-SjSjc_",
        "colab": {
          "base_uri": "https://localhost:8080/"
        },
        "outputId": "ab647b5f-e23e-42f1-92fe-0b01a482c95b"
      },
      "execution_count": 275,
      "outputs": [
        {
          "output_type": "stream",
          "name": "stdout",
          "text": [
            "truck\n",
            "Nissan\n",
            "nissan.jpeg\n",
            "3.92\n",
            "2.09\n",
            "1.87\n"
          ]
        }
      ]
    },
    {
      "cell_type": "code",
      "source": [
        "spec_machine = SpecMachine('Komatsu-D355', 'd355.jpg', '93', 'pipelayer specs')\n",
        "print(spec_machine.car_type, spec_machine.brand, spec_machine.carrying, spec_machine.photo_file_name, spec_machine.extra, sep='\\n')\n",
        "# spec_machine\n",
        "# Komatsu-D355\n",
        "# 93.0\n",
        "# d355.jpg\n",
        "# pipelayer specs"
      ],
      "metadata": {
        "id": "_tcS-a5SSpMt",
        "colab": {
          "base_uri": "https://localhost:8080/"
        },
        "outputId": "979e7297-b55f-451b-aef2-3ecbd7fe1ab2"
      },
      "execution_count": 276,
      "outputs": [
        {
          "output_type": "stream",
          "name": "stdout",
          "text": [
            "spec_machine\n",
            "Komatsu-D355\n",
            "93\n",
            "d355.jpg\n",
            "pipelayer specs\n"
          ]
        }
      ]
    },
    {
      "cell_type": "code",
      "source": [
        "spec_machine.get_photo_file_ext()\n",
        "# '.jpg'"
      ],
      "metadata": {
        "id": "rw6Mvh59SwTg",
        "colab": {
          "base_uri": "https://localhost:8080/",
          "height": 36
        },
        "outputId": "c9bb96fa-aaaa-4fab-cd1d-47ace1d034d1"
      },
      "execution_count": 277,
      "outputs": [
        {
          "output_type": "execute_result",
          "data": {
            "text/plain": [
              "'.jpg'"
            ],
            "application/vnd.google.colaboratory.intrinsic+json": {
              "type": "string"
            }
          },
          "metadata": {},
          "execution_count": 277
        }
      ]
    },
    {
      "cell_type": "code",
      "source": [
        "cars = get_car_list('coursera_week3_cars.csv')\n",
        "len(cars)\n",
        "# 4"
      ],
      "metadata": {
        "id": "nqY0fF-xSzzi",
        "colab": {
          "base_uri": "https://localhost:8080/"
        },
        "outputId": "6c6b832e-330f-4f41-f4d7-0326c93bc0f3"
      },
      "execution_count": 278,
      "outputs": [
        {
          "output_type": "execute_result",
          "data": {
            "text/plain": [
              "4"
            ]
          },
          "metadata": {},
          "execution_count": 278
        }
      ]
    },
    {
      "cell_type": "code",
      "source": [
        "cars[0].passenger_seats_count\n",
        "# 4"
      ],
      "metadata": {
        "id": "VrZZqZmNS4Ta",
        "colab": {
          "base_uri": "https://localhost:8080/",
          "height": 36
        },
        "outputId": "3b8bfab9-5bc6-4622-f46a-6366d2787ead"
      },
      "execution_count": 279,
      "outputs": [
        {
          "output_type": "execute_result",
          "data": {
            "text/plain": [
              "'4'"
            ],
            "application/vnd.google.colaboratory.intrinsic+json": {
              "type": "string"
            }
          },
          "metadata": {},
          "execution_count": 279
        }
      ]
    },
    {
      "cell_type": "code",
      "source": [
        "cars[1].get_body_volume()\n",
        "# 60.0"
      ],
      "metadata": {
        "id": "QNs2BKomS7dL",
        "colab": {
          "base_uri": "https://localhost:8080/"
        },
        "outputId": "d09dc3da-bdea-412c-d30c-667451e25709"
      },
      "execution_count": 280,
      "outputs": [
        {
          "output_type": "execute_result",
          "data": {
            "text/plain": [
              "60.0"
            ]
          },
          "metadata": {},
          "execution_count": 280
        }
      ]
    }
  ]
}